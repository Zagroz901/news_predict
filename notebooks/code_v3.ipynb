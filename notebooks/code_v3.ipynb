{
 "cells": [
  {
   "cell_type": "code",
   "execution_count": 2,
   "metadata": {},
   "outputs": [
    {
     "name": "stderr",
     "output_type": "stream",
     "text": [
      "\u001b[32m2025-03-14 02:04:47.549\u001b[0m | \u001b[1mINFO    \u001b[0m | \u001b[36mnews_project.config\u001b[0m:\u001b[36m<module>\u001b[0m:\u001b[36m11\u001b[0m - \u001b[1mPROJ_ROOT path is: C:\\Users\\Lenovo\\Desktop\\Train_Qafza\\Project\\news_project_pipline\u001b[0m\n"
     ]
    }
   ],
   "source": [
    "import sys\n",
    "import os\n",
    "from pathlib import Path\n",
    "project_root = os.path.abspath(os.path.join(os.getcwd(), \"..\"))\n",
    "sys.path.append(project_root)\n",
    "from news_project.dataset import *\n",
    "import matplotlib.pyplot as plt\n",
    "import seaborn as sns\n",
    "from news_project.process import * \n",
    "from sklearn.model_selection import train_test_split, cross_val_score\n",
    "from sklearn.linear_model import LogisticRegression\n",
    "from xgboost.sklearn import XGBClassifier\n",
    "import pandas as pd\n",
    "import numpy as np\n",
    "from sklearn.feature_extraction.text import TfidfVectorizer\n",
    "from sklearn.preprocessing import LabelEncoder\n",
    "from sklearn.model_selection import train_test_split, cross_val_score\n",
    "from sklearn.metrics import accuracy_score, f1_score, precision_score, recall_score, classification_report\n",
    "from sklearn.linear_model import LogisticRegression, RidgeClassifier\n",
    "from sklearn.ensemble import RandomForestClassifier\n",
    "from sklearn.svm import SVC\n",
    "from sklearn.naive_bayes import MultinomialNB\n",
    "from joblib import Parallel, delayed\n",
    "from loguru import logger\n",
    "import joblib\n",
    "from news_project.modeling.train import *\n"
   ]
  },
  {
   "cell_type": "code",
   "execution_count": null,
   "metadata": {},
   "outputs": [],
   "source": [
    "# Define the path to the dataset\n",
    "file_path = Path(\"../data/raw/news.csv\")\n",
    "df = load_data(file_path)\n",
    "df_cleaned = clean_news_data(df, text_column=\"news\")\n",
    "sentiment_mapping = {\"NEGATIVE\": 1, \"POSITIVE\": 0}\n",
    "df_cleaned[\"label\"] = df_cleaned[\"sentiment\"].map(sentiment_mapping)\n",
    "desired_columns = ['cleaned_text','cleaned_tokens','label']\n",
    "df_save = df_cleaned[desired_columns]\n",
    "df_save.to_csv(\"../data/processed/data_V1.csv\", index=False)"
   ]
  },
  {
   "cell_type": "code",
   "execution_count": null,
   "metadata": {},
   "outputs": [],
   "source": [
    "data_v1= pd.read_csv(\"../data/processed/data_V1.csv\")\n",
    "data_v1 = data_v1.dropna()\n",
    "data = data_v1.drop([\"label\"], axis=1)\n",
    "target = data_v1[\"label\"]\n",
    "X_train, X_test, y_train, y_test = train_test_split(data[\"cleaned_text\"], target, test_size=0.2, random_state=42)\n",
    "vectorizer = TfidfVectorizer()\n",
    "X_train_tfidf = vectorizer.fit_transform(X_train)\n",
    "# X_val_tfidf = vectorizer.transform(X_val)\n",
    "X_test_tfidf = vectorizer.transform(X_test)"
   ]
  },
  {
   "cell_type": "code",
   "execution_count": null,
   "metadata": {},
   "outputs": [],
   "source": [
    "models_df = pd.DataFrame()\n",
    "trained_model = {}\n",
    "# Train different classification models\n",
    "# models_df, trained_models = train_and_evaluate(LogisticRegression(C=1.0, solver='saga', max_iter=500, penalty='l2', class_weight='balanced')\n",
    "# , X_train_tfidf, y_train, X_test_tfidf, y_test, models_df, trained_model)\n",
    "# models_df, trained_models = train_and_evaluate(RidgeClassifier(alpha=1.0, solver='auto')\n",
    "# , X_train_tfidf, y_train, X_test_tfidf, y_test, models_df, trained_model)\n",
    "# models_df, trained_models = train_and_evaluate(RandomForestClassifier(n_estimators=300, max_depth=50, min_samples_split=5, min_samples_leaf=2, \n",
    "#                        class_weight='balanced', n_jobs=-1, random_state=42)\n",
    "# , X_train_tfidf, y_train, X_test_tfidf, y_test, models_df, trained_model)\n",
    "# models_df, trained_models = train_and_evaluate(SVC(C=10, kernel='rbf', gamma='scale', probability=True)\n",
    "# , X_train_tfidf, y_train, X_test_tfidf, y_test, models_df, trained_model)\n",
    "# models_df, trained_models = train_and_evaluate(MultinomialNB(alpha=0.1, fit_prior=True)\n",
    "# , X_train_tfidf, y_train, X_test_tfidf, y_test, models_df, trained_model)\n",
    "models_df, trained_models = train_and_evaluate(XGBClassifier(n_estimators=500, learning_rate=0.05, max_depth=10, min_child_weight=3, \n",
    "              subsample=0.8, colsample_bytree=0.8, eval_metric=\"logloss\", use_label_encoder=False, n_jobs=-1 )\n",
    ", X_train_tfidf, y_train, X_test_tfidf, y_test, models_df, trained_model)"
   ]
  },
  {
   "cell_type": "code",
   "execution_count": 9,
   "metadata": {},
   "outputs": [],
   "source": [
    "# Example usage:\n",
    "from news_project.pipline import * \n",
    "sample_text = \"fuck girls hhhhhh\"\n",
    "model_path = \"../news_project/models/ml_models/LogisticRegression.pkl\"\n",
    "vectorizer_path = \"../news_project/models/vectorizer_models/tfidf_vectorizer.pkl\"\n",
    "prediction_info = pipline_for_sample(model_path,vectorizer_path,sample_text)\n"
   ]
  },
  {
   "cell_type": "code",
   "execution_count": 10,
   "metadata": {},
   "outputs": [
    {
     "data": {
      "text/plain": [
       "{'output': np.int64(1), 'text': 'fuck girls hhhhhh'}"
      ]
     },
     "execution_count": 10,
     "metadata": {},
     "output_type": "execute_result"
    }
   ],
   "source": [
    "prediction_info"
   ]
  },
  {
   "cell_type": "code",
   "execution_count": 11,
   "metadata": {},
   "outputs": [
    {
     "name": "stdout",
     "output_type": "stream",
     "text": [
      "hiiii\n"
     ]
    }
   ],
   "source": [
    "if prediction_info[\"output\"] == 0 :\n",
    "    print(\"hooo\")\n",
    "else:\n",
    "    print(\"hiiii\")"
   ]
  }
 ],
 "metadata": {
  "kernelspec": {
   "display_name": "qafza_task",
   "language": "python",
   "name": "python3"
  },
  "language_info": {
   "codemirror_mode": {
    "name": "ipython",
    "version": 3
   },
   "file_extension": ".py",
   "mimetype": "text/x-python",
   "name": "python",
   "nbconvert_exporter": "python",
   "pygments_lexer": "ipython3",
   "version": "3.10.16"
  }
 },
 "nbformat": 4,
 "nbformat_minor": 2
}
